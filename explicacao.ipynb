{
 "cells": [
  {
   "cell_type": "markdown",
   "metadata": {},
   "source": [
    "# Aluno: Thiago Henrique Maia"
   ]
  },
  {
   "cell_type": "markdown",
   "metadata": {},
   "source": [
    "# 1) Envio do algoritimo do tempo\n",
    "# verificação da limiar\n",
    "                if ear < ear_limiar:\n",
    "                    t_inicial = time.time() if dormindo == 0 else t_inicial\n",
    "                    dormindo = 1\n",
    "                if dormindo == 1 and ear >= ear_limiar:\n",
    "                    dormindo = 0\n",
    "                t_final = time.time()\n",
    "                            \n",
    "                tempo = (t_final-t_inicial) if dormindo == 1 else 0.0"
   ]
  },
  {
   "cell_type": "markdown",
   "metadata": {},
   "source": [
    "## passo 1: if ear < ear_limiar: \n",
    "- Verifica se o ear esta menor que o ear_limiar da pessoa\n",
    "- se ear estiver menor que o ear_limiar quer dizer que a pessoa fechou os olhos\n"
   ]
  },
  {
   "cell_type": "markdown",
   "metadata": {},
   "source": [
    "## passo 2: t_inicial = time.time() if dormindo == 0 else t_inicial\n",
    "- se a variável dormindo for igual a 0 t_inicial vai receber time.time()\n",
    "- se a variável não for igual a 0 t_inicial vai receber t_inicial\n",
    "- a variavel dormindo vai receber 1\n",
    "\n",
    "### Explicação:\n",
    "- Quando a pessoa fechar os olhos o t_inicial vai receber time.time() e a variável dormindo vai receber 1\n",
    "- Se a pessoa mantiver os olhos fechados vai continuar entrando no if mas a variavel t_inicial vai ficar recebendo o tempo atualizado dela mesmo e a variavel dormindo vai ficar recebendo 1"
   ]
  },
  {
   "cell_type": "markdown",
   "metadata": {},
   "source": [
    "## passo 3: if dormindo == 1 and ear >= ear_limiar:\n",
    "- se a variavel dormindo for igual a 1 e o ear for maior ou igual a ear_limiar  quer dizer que a pessoa que tinha fechado os olhos abriu os olhos\n",
    "## passo 4: dormindo = 0\n",
    "- a variavel dormindo recebe 0 , ou seja a pessoa abriu os olhos e atualiza a variavel para 0"
   ]
  },
  {
   "cell_type": "markdown",
   "metadata": {},
   "source": [
    "## passo 5: t_final = time.time()\n",
    "- a variavel t_final vai ficar recebendo o time.time() independente se tiver entrado nos ifs pegando a hora atual"
   ]
  },
  {
   "cell_type": "markdown",
   "metadata": {},
   "source": [
    "## passo 6: tempo = (t_final-t_inicial) if dormindo == 1 else 0.0\n",
    "- se a variavel dormindo for igual a 0 a variavel tempo vai ficar recebendo a diferença entre a variavel t_final e a variavel t_inicial\n",
    "- se a variavel dormindo for igual a 0 a variavel tempo vai ficar recebendo 0.0"
   ]
  }
 ],
 "metadata": {
  "kernelspec": {
   "display_name": ".venv",
   "language": "python",
   "name": "python3"
  },
  "language_info": {
   "codemirror_mode": {
    "name": "ipython",
    "version": 3
   },
   "file_extension": ".py",
   "mimetype": "text/x-python",
   "name": "python",
   "nbconvert_exporter": "python",
   "pygments_lexer": "ipython3",
   "version": "3.12.5"
  }
 },
 "nbformat": 4,
 "nbformat_minor": 2
}
